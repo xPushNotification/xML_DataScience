{
 "cells": [
  {
   "cell_type": "code",
   "execution_count": 2,
   "metadata": {},
   "outputs": [],
   "source": [
    "# папка для загрузки данных примеров:\n",
    "# /__PROJECTS/aa_CommonData/ml/\n",
    "path = \"/__PROJECTS/aa_CommonData/ml\"\n"
   ]
  },
  {
   "cell_type": "code",
   "execution_count": 4,
   "metadata": {},
   "outputs": [
    {
     "name": "stdout",
     "output_type": "stream",
     "text": [
      "order,name,height(cm)\n",
      "1,George Washington,189\n",
      "2,John Adams,170\n",
      "3,Thomas Jefferson,189\n"
     ]
    }
   ],
   "source": [
    "!head -4 {path}/president_heights.csv"
   ]
  },
  {
   "cell_type": "code",
   "execution_count": 7,
   "metadata": {},
   "outputs": [
    {
     "data": {
      "text/plain": [
       "array([189, 170, 189, 163, 183, 171, 185, 168, 173, 183, 173, 173, 175,\n",
       "       178, 183, 193, 178, 173, 174, 183, 183, 168, 170, 178, 182, 180,\n",
       "       183, 178, 182, 188, 175, 179, 183, 193, 182, 183, 177, 185, 188,\n",
       "       188, 182, 185])"
      ]
     },
     "execution_count": 7,
     "metadata": {},
     "output_type": "execute_result"
    }
   ],
   "source": [
    "import numpy as np\n",
    "import pandas as pd \n",
    "\n",
    "data = pd.read_csv(path+\"/president_heights.csv\")\n",
    "heights = np.array(data[\"height(cm)\"])\n",
    "heights "
   ]
  },
  {
   "cell_type": "code",
   "execution_count": 9,
   "metadata": {},
   "outputs": [
    {
     "name": "stdout",
     "output_type": "stream",
     "text": [
      "mean height: 179.73809523809524\n",
      "standard deviation: 6.931843442745892\n",
      "minimum height: 163\n",
      "maximum height: 193\n"
     ]
    }
   ],
   "source": [
    "print(\"mean height:\",heights.mean())\n",
    "print(\"standard deviation:\",heights.std())\n",
    "print(\"minimum height:\", heights.min())\n",
    "print(\"maximum height:\", heights.max())"
   ]
  },
  {
   "cell_type": "code",
   "execution_count": 10,
   "metadata": {},
   "outputs": [
    {
     "name": "stdout",
     "output_type": "stream",
     "text": [
      "25th percentile: 174.25\n",
      "median: 182.0\n",
      "75th percentile: 183.0\n"
     ]
    }
   ],
   "source": [
    "print(\"25th percentile:\", np.percentile(heights, 25))\n",
    "print(\"median:\", np.median(heights))\n",
    "print(\"75th percentile:\", np.percentile(heights, 75))"
   ]
  },
  {
   "cell_type": "code",
   "execution_count": 13,
   "metadata": {},
   "outputs": [
    {
     "name": "stderr",
     "output_type": "stream",
     "text": [
      "/tmp/ipykernel_185678/4119851528.py:4: MatplotlibDeprecationWarning: The seaborn styles shipped by Matplotlib are deprecated since 3.6, as they no longer correspond to the styles shipped by seaborn. However, they will remain available as 'seaborn-v0_8-<style>'. Alternatively, directly use the seaborn API instead.\n",
      "  plt.style.use(\"seaborn-whitegrid\")\n"
     ]
    }
   ],
   "source": [
    "# add visual representation \n",
    "%matplotlib inline \n",
    "import matplotlib.pyplot as plt \n",
    "plt.style.use(\"seaborn-whitegrid\")\n"
   ]
  },
  {
   "cell_type": "code",
   "execution_count": 15,
   "metadata": {},
   "outputs": [
    {
     "data": {
      "image/png": "[encoded data removed]",
      "text/plain": [
       "<Figure size 640x480 with 1 Axes>"
      ]
     },
     "metadata": {},
     "output_type": "display_data"
    }
   ],
   "source": [
    "plt.hist(heights)\n",
    "plt.title(\"height distribution of US presidents\")\n",
    "plt.xlabel(\"height (cm)\")\n",
    "plt.ylabel(\"number\");  # suppress ALL output from each row "
   ]
  }
 ],
 "metadata": {
  "kernelspec": {
   "display_name": "base",
   "language": "python",
   "name": "python3"
  },
  "language_info": {
   "codemirror_mode": {
    "name": "ipython",
    "version": 3
   },
   "file_extension": ".py",
   "mimetype": "text/x-python",
   "name": "python",
   "nbconvert_exporter": "python",
   "pygments_lexer": "ipython3",
   "version": "3.11.5"
  }
 },
 "nbformat": 4,
 "nbformat_minor": 2
}
