{
 "cells": [
  {
   "cell_type": "code",
   "execution_count": 1,
   "metadata": {},
   "outputs": [],
   "source": [
    "# binning data \n",
    "# we have 100 values and need to find quickly \n",
    "# where they fall within an array of bins \n",
    "import numpy as np \n",
    "rng = np.random.default_rng(seed = 1701)"
   ]
  },
  {
   "cell_type": "code",
   "execution_count": 3,
   "metadata": {},
   "outputs": [
    {
     "data": {
      "text/plain": [
       "array([ 0.82092772, -1.15517027, -0.97122683, -0.17132741, -0.81601727,\n",
       "        0.30868046,  0.65027227,  1.99948343, -0.54281894, -0.54011181,\n",
       "       -0.96727256,  2.46932209,  0.53446783, -0.94172735,  0.19635787,\n",
       "       -0.28790612,  1.83545534, -2.86714255, -0.38426121,  1.51783286,\n",
       "        0.58773544,  1.68491423,  0.1117977 ,  1.74346136,  2.57854436,\n",
       "        1.62611734, -0.23100508, -0.37392389,  0.2955216 , -0.285729  ,\n",
       "        0.60083079, -2.012344  , -0.98260905,  0.25913521,  0.23989729,\n",
       "       -0.51177971, -0.15886684, -0.09464162,  0.57566875, -0.26319484,\n",
       "        1.39451378, -0.08624404, -2.02750209, -0.76558753,  0.04948999,\n",
       "        0.95866903, -0.43409852, -0.22062555, -0.35983424, -0.91564192,\n",
       "       -0.03635412, -0.87350513, -0.02706269,  0.19121406, -0.88878911,\n",
       "        0.29404227, -1.5669326 , -0.85128698, -0.79576316,  1.58456721,\n",
       "       -1.7507953 ,  0.86982133,  1.21317601,  0.81136972,  1.63733809,\n",
       "       -2.75419904, -0.70381415, -0.99684953,  2.16985967, -0.21877816,\n",
       "       -1.79897338, -2.0070781 , -0.51258526, -1.84983888,  0.15240947,\n",
       "        0.13013947, -0.30746121,  0.27787707,  1.76527805,  0.53022739,\n",
       "        0.0206448 , -0.46567749,  1.86504204,  0.15786714, -1.31808877,\n",
       "       -0.59028484, -0.67335177,  0.15257334,  0.74616136, -0.804168  ,\n",
       "        1.03085251,  0.18619125, -1.66737765,  0.18145929, -0.11589857,\n",
       "        1.61471753, -0.66678317,  2.06936023,  1.78748626,  0.23051727])"
      ]
     },
     "execution_count": 3,
     "metadata": {},
     "output_type": "execute_result"
    }
   ],
   "source": [
    "x = rng.normal(size=100)\n",
    "x "
   ]
  },
  {
   "cell_type": "code",
   "execution_count": 7,
   "metadata": {},
   "outputs": [
    {
     "data": {
      "text/plain": [
       "(array([-5.        , -4.47368421, -3.94736842, -3.42105263, -2.89473684,\n",
       "        -2.36842105, -1.84210526, -1.31578947, -0.78947368, -0.26315789,\n",
       "         0.26315789,  0.78947368,  1.31578947,  1.84210526,  2.36842105,\n",
       "         2.89473684,  3.42105263,  3.94736842,  4.47368421,  5.        ]),\n",
       " array([0., 0., 0., 0., 0., 0., 0., 0., 0., 0., 0., 0., 0., 0., 0., 0., 0.,\n",
       "        0., 0., 0.]))"
      ]
     },
     "execution_count": 7,
     "metadata": {},
     "output_type": "execute_result"
    }
   ],
   "source": [
    "# compute a histogram by hand \n",
    "bins = np.linspace(-5,5,20)\n",
    "counts = np.zeros_like(bins)\n",
    "\n",
    "bins, counts "
   ]
  },
  {
   "cell_type": "code",
   "execution_count": 8,
   "metadata": {},
   "outputs": [
    {
     "data": {
      "text/plain": [
       "array([12,  8,  8, 10,  8, 11, 11, 14,  9,  9,  8, 15, 11,  8, 10,  9, 13,\n",
       "        5,  9, 13, 11, 13, 10, 13, 15, 13, 10,  9, 11,  9, 11,  6,  8, 10,\n",
       "       10,  9, 10, 10, 11,  9, 13, 10,  6,  9, 10, 12,  9, 10,  9,  8, 10,\n",
       "        8, 10, 10,  8, 11,  7,  8,  8, 13,  7, 12, 12, 12, 13,  5,  9,  8,\n",
       "       14, 10,  7,  6,  9,  6, 10, 10,  9, 11, 13, 11, 10,  9, 14, 10,  7,\n",
       "        9,  9, 10, 11,  8, 12, 10,  7, 10, 10, 13,  9, 14, 13, 10])"
      ]
     },
     "execution_count": 8,
     "metadata": {},
     "output_type": "execute_result"
    }
   ],
   "source": [
    "# find the appropriate bin for each x \n",
    "i = np.searchsorted(bins, x)\n",
    "i "
   ]
  },
  {
   "cell_type": "code",
   "execution_count": 10,
   "metadata": {},
   "outputs": [
    {
     "data": {
      "text/plain": [
       "array([ 0.,  0.,  0.,  0.,  0.,  4.,  8., 10., 26., 36., 48., 22., 12.,\n",
       "       22.,  8.,  4.,  0.,  0.,  0.,  0.])"
      ]
     },
     "execution_count": 10,
     "metadata": {},
     "output_type": "execute_result"
    }
   ],
   "source": [
    "# add 1 to each of these bins \n",
    "np.add.at(counts, i, 1)\n",
    "counts"
   ]
  },
  {
   "cell_type": "code",
   "execution_count": null,
   "metadata": {},
   "outputs": [],
   "source": [
    "# the counts now reflect the number of points within each bin - in other words \n",
    "# a histogram"
   ]
  },
  {
   "cell_type": "code",
   "execution_count": 11,
   "metadata": {},
   "outputs": [
    {
     "data": {
      "image/png": "[encoded data removed]",
      "text/plain": [
       "<Figure size 640x480 with 1 Axes>"
      ]
     },
     "metadata": {},
     "output_type": "display_data"
    }
   ],
   "source": [
    "# plot the results \n",
    "from matplotlib import pyplot as plt\n",
    "\n",
    "plt.plot(bins,counts,drawstyle=\"steps\");"
   ]
  },
  {
   "cell_type": "code",
   "execution_count": 12,
   "metadata": {},
   "outputs": [
    {
     "data": {
      "text/plain": [
       "(array([ 0.,  0.,  0.,  0.,  2.,  4.,  5., 13., 18., 24., 11.,  6., 11.,\n",
       "         4.,  2.,  0.,  0.,  0.,  0.]),\n",
       " array([-5.        , -4.47368421, -3.94736842, -3.42105263, -2.89473684,\n",
       "        -2.36842105, -1.84210526, -1.31578947, -0.78947368, -0.26315789,\n",
       "         0.26315789,  0.78947368,  1.31578947,  1.84210526,  2.36842105,\n",
       "         2.89473684,  3.42105263,  3.94736842,  4.47368421,  5.        ]),\n",
       " [<matplotlib.patches.Polygon at 0x7aeb3d530c50>])"
      ]
     },
     "execution_count": 12,
     "metadata": {},
     "output_type": "execute_result"
    },
    {
     "data": {
      "image/png": "[encoded data removed]",
      "text/plain": [
       "<Figure size 640x480 with 1 Axes>"
      ]
     },
     "metadata": {},
     "output_type": "display_data"
    }
   ],
   "source": [
    "plt.hist(x, bins, histtype=\"step\")  # no need to search \"counts\""
   ]
  },
  {
   "cell_type": "code",
   "execution_count": 13,
   "metadata": {},
   "outputs": [
    {
     "name": "stdout",
     "output_type": "stream",
     "text": [
      "numpy histogram 100 points:\n",
      "71.6 µs ± 1.01 µs per loop (mean ± std. dev. of 7 runs, 10,000 loops each)\n",
      "custom histogram 100 points:\n",
      "41.7 µs ± 1.59 µs per loop (mean ± std. dev. of 7 runs, 10,000 loops each)\n"
     ]
    }
   ],
   "source": [
    "print(f\"numpy histogram {len(x)} points:\")\n",
    "%timeit counts, edges = np.histogram(x,bins)\n",
    "\n",
    "print(f\"custom histogram {len(x)} points:\")\n",
    "%timeit np.add.at(counts, np.searchsorted(bins,x),1)"
   ]
  }
 ],
 "metadata": {
  "kernelspec": {
   "display_name": "base",
   "language": "python",
   "name": "python3"
  },
  "language_info": {
   "codemirror_mode": {
    "name": "ipython",
    "version": 3
   },
   "file_extension": ".py",
   "mimetype": "text/x-python",
   "name": "python",
   "nbconvert_exporter": "python",
   "pygments_lexer": "ipython3",
   "version": "3.11.5"
  }
 },
 "nbformat": 4,
 "nbformat_minor": 2
}
