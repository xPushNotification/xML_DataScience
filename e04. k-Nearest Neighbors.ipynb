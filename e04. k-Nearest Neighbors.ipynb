{
 "cells": [
  {
   "cell_type": "code",
   "execution_count": 9,
   "metadata": {},
   "outputs": [],
   "source": [
    "# K-Nearest Neighbors\n",
    "# find nearest neighbors for each point in a set \n",
    "\n",
    "import numpy as np \n",
    "rng = np.random.default_rng(seed = 42)"
   ]
  },
  {
   "cell_type": "code",
   "execution_count": 10,
   "metadata": {},
   "outputs": [
    {
     "data": {
      "text/plain": [
       "array([[0.77395605, 0.43887844],\n",
       "       [0.85859792, 0.69736803],\n",
       "       [0.09417735, 0.97562235],\n",
       "       [0.7611397 , 0.78606431],\n",
       "       [0.12811363, 0.45038594],\n",
       "       [0.37079802, 0.92676499],\n",
       "       [0.64386512, 0.82276161],\n",
       "       [0.4434142 , 0.22723872],\n",
       "       [0.55458479, 0.06381726],\n",
       "       [0.82763117, 0.6316644 ]])"
      ]
     },
     "execution_count": 10,
     "metadata": {},
     "output_type": "execute_result"
    }
   ],
   "source": [
    "X = rng.random((10,2))\n",
    "X # first column is an X, second is an Y and the 10 points at all "
   ]
  },
  {
   "cell_type": "code",
   "execution_count": 11,
   "metadata": {},
   "outputs": [
    {
     "name": "stderr",
     "output_type": "stream",
     "text": [
      "/tmp/ipykernel_232677/4120168483.py:3: MatplotlibDeprecationWarning: The seaborn styles shipped by Matplotlib are deprecated since 3.6, as they no longer correspond to the styles shipped by seaborn. However, they will remain available as 'seaborn-v0_8-<style>'. Alternatively, directly use the seaborn API instead.\n",
      "  plt.style.use(\"seaborn-whitegrid\")\n"
     ]
    },
    {
     "data": {
      "image/png": "[encoded data removed]",
      "text/plain": [
       "<Figure size 640x480 with 1 Axes>"
      ]
     },
     "metadata": {},
     "output_type": "display_data"
    }
   ],
   "source": [
    "%matplotlib inline \n",
    "import matplotlib.pyplot as plt \n",
    "plt.style.use(\"seaborn-whitegrid\")\n",
    "plt.scatter(X[:,0], X[:,1], s=100);"
   ]
  },
  {
   "cell_type": "code",
   "execution_count": 12,
   "metadata": {},
   "outputs": [
    {
     "data": {
      "text/plain": [
       "array([[0.        , 0.07398111, 0.75019311, 0.12070228, 0.41724485,\n",
       "        0.40056968, 0.16428994, 0.15404928, 0.18879464, 0.04004745],\n",
       "       [0.07398111, 0.        , 0.66176428, 0.01736513, 0.59460745,\n",
       "        0.2905717 , 0.06183373, 0.39339909, 0.49381057, 0.00527591],\n",
       "       [0.75019311, 0.66176428, 0.        , 0.48077103, 0.27702496,\n",
       "        0.07890604, 0.32552305, 0.68204444, 1.04336354, 0.65626159],\n",
       "       [0.12070228, 0.01736513, 0.48077103, 0.        , 0.51340197,\n",
       "        0.17216331, 0.01510002, 0.41323553, 0.56430573, 0.02826045],\n",
       "       [0.41724485, 0.59460745, 0.27702496, 0.51340197, 0.        ,\n",
       "        0.28583271, 0.40466324, 0.14920913, 0.33131299, 0.52218667],\n",
       "       [0.40056968, 0.2905717 , 0.07890604, 0.17216331, 0.28583271,\n",
       "        0.        , 0.08538234, 0.49461011, 0.77845636, 0.29578088],\n",
       "       [0.16428994, 0.06183373, 0.32552305, 0.01510002, 0.40466324,\n",
       "        0.08538234, 0.        , 0.39482809, 0.58396752, 0.07028811],\n",
       "       [0.15404928, 0.39339909, 0.68204444, 0.41323553, 0.14920913,\n",
       "        0.49461011, 0.39482809, 0.        , 0.03906548, 0.31118281],\n",
       "       [0.18879464, 0.49381057, 1.04336354, 0.56430573, 0.33131299,\n",
       "        0.77845636, 0.58396752, 0.03906548, 0.        , 0.39700471],\n",
       "       [0.04004745, 0.00527591, 0.65626159, 0.02826045, 0.52218667,\n",
       "        0.29578088, 0.07028811, 0.31118281, 0.39700471, 0.        ]])"
      ]
     },
     "execution_count": 12,
     "metadata": {},
     "output_type": "execute_result"
    }
   ],
   "source": [
    "# compute the distance between each pair of points\n",
    "# 1) square distane between two points is the sum of the squared differeces in each \n",
    "# dimension, using the efficient broadcasting\n",
    "# 2) and aggregation routines \n",
    "\n",
    "# so we can provide single line of code:\n",
    "# one axis - is the first line of points, second is the second line of points \n",
    "# and we calculate matrix of the distances \n",
    "# notice when we have 0 - is the point itself\n",
    "\n",
    "dist_sq = np.sum(( X[:,np.newaxis] - X[np.newaxis,:]) ** 2, axis=-1)\n",
    "dist_sq \n"
   ]
  },
  {
   "cell_type": "code",
   "execution_count": 13,
   "metadata": {},
   "outputs": [
    {
     "data": {
      "text/plain": [
       "(10, 10, 2)"
      ]
     },
     "execution_count": 13,
     "metadata": {},
     "output_type": "execute_result"
    }
   ],
   "source": [
    "# similar in the different set of operations:\n",
    "\n",
    "# for each pair of points, compute differences in their coordinates\n",
    "differences = X[:,np.newaxis] - X[np.newaxis, :]    # lineup points \n",
    "differences.shape "
   ]
  },
  {
   "cell_type": "code",
   "execution_count": 19,
   "metadata": {},
   "outputs": [
    {
     "data": {
      "text/plain": [
       "array([[[0.00000000e+00, 0.00000000e+00],\n",
       "        [7.16424639e-03, 6.68168678e-02],\n",
       "        [4.62099082e-01, 2.88094027e-01],\n",
       "        [1.64258739e-04, 1.20538025e-01],\n",
       "        [4.17112426e-01, 1.32422514e-04],\n",
       "        [1.62536393e-01, 2.38033285e-01],\n",
       "        [1.69236497e-02, 1.47366291e-01],\n",
       "        [1.09257914e-01, 4.47913702e-02],\n",
       "        [4.81237504e-02, 1.40670891e-01],\n",
       "        [2.88101888e-03, 3.71664261e-02]],\n",
       "\n",
       "       [[7.16424639e-03, 6.68168678e-02],\n",
       "        [0.00000000e+00, 0.00000000e+00],\n",
       "        [5.84338811e-01, 7.74254680e-02],\n",
       "        [9.49810424e-03, 7.86702941e-03],\n",
       "        [5.33607294e-01, 6.10001534e-02],\n",
       "        [2.37948738e-01, 5.26229652e-02],\n",
       "        [4.61101753e-02, 1.57235510e-02],\n",
       "        [1.72377522e-01, 2.21021566e-01],\n",
       "        [9.24239850e-02, 4.01386582e-01],\n",
       "        [9.58939477e-04, 4.31696699e-03]],\n",
       "\n",
       "       [[4.62099082e-01, 2.88094027e-01],\n",
       "        [5.84338811e-01, 7.74254680e-02],\n",
       "        [0.00000000e+00, 0.00000000e+00],\n",
       "        [4.44838782e-01, 3.59322529e-02],\n",
       "        [1.15167143e-03, 2.75873290e-01],\n",
       "        [7.65189986e-02, 2.38704190e-03],\n",
       "        [3.02156647e-01, 2.33664053e-02],\n",
       "        [1.21966378e-01, 5.60078057e-01],\n",
       "        [2.11975010e-01, 8.31388532e-01],\n",
       "        [5.37954512e-01, 1.18307073e-01]],\n",
       "\n",
       "       [[1.64258739e-04, 1.20538025e-01],\n",
       "        [9.49810424e-03, 7.86702941e-03],\n",
       "        [4.44838782e-01, 3.59322529e-02],\n",
       "        [0.00000000e+00, 0.00000000e+00],\n",
       "        [4.00722004e-01, 1.12679966e-01],\n",
       "        [1.52366625e-01, 1.97966824e-02],\n",
       "        [1.37533276e-02, 1.34669241e-03],\n",
       "        [1.00949495e-01, 3.12286033e-01],\n",
       "        [4.26649329e-02, 5.21640800e-01],\n",
       "        [4.42111558e-03, 2.38393310e-02]],\n",
       "\n",
       "       [[4.17112426e-01, 1.32422514e-04],\n",
       "        [5.33607294e-01, 6.10001534e-02],\n",
       "        [1.15167143e-03, 2.75873290e-01],\n",
       "        [4.00722004e-01, 1.12679966e-01],\n",
       "        [0.00000000e+00, 0.00000000e+00],\n",
       "        [5.88957139e-02, 2.26937000e-01],\n",
       "        [2.65999597e-01, 1.38663644e-01],\n",
       "        [9.94144470e-02, 4.97946801e-02],\n",
       "        [1.81877645e-01, 1.49435346e-01],\n",
       "        [4.89324788e-01, 3.28618805e-02]],\n",
       "\n",
       "       [[1.62536393e-01, 2.38033285e-01],\n",
       "        [2.37948738e-01, 5.26229652e-02],\n",
       "        [7.65189986e-02, 2.38704190e-03],\n",
       "        [1.52366625e-01, 1.97966824e-02],\n",
       "        [5.88957139e-02, 2.26937000e-01],\n",
       "        [0.00000000e+00, 0.00000000e+00],\n",
       "        [7.45656388e-02, 1.08167021e-02],\n",
       "        [5.27310881e-03, 4.89336998e-01],\n",
       "        [3.37775742e-02, 7.44678789e-01],\n",
       "        [2.08696525e-01, 8.70843581e-02]],\n",
       "\n",
       "       [[1.69236497e-02, 1.47366291e-01],\n",
       "        [4.61101753e-02, 1.57235510e-02],\n",
       "        [3.02156647e-01, 2.33664053e-02],\n",
       "        [1.37533276e-02, 1.34669241e-03],\n",
       "        [2.65999597e-01, 1.38663644e-01],\n",
       "        [7.45656388e-02, 1.08167021e-02],\n",
       "        [0.00000000e+00, 0.00000000e+00],\n",
       "        [4.01805718e-02, 3.54647514e-01],\n",
       "        [7.97097787e-03, 5.75996537e-01],\n",
       "        [3.37699618e-02, 3.65181453e-02]],\n",
       "\n",
       "       [[1.09257914e-01, 4.47913702e-02],\n",
       "        [1.72377522e-01, 2.21021566e-01],\n",
       "        [1.21966378e-01, 5.60078057e-01],\n",
       "        [1.00949495e-01, 3.12286033e-01],\n",
       "        [9.94144470e-02, 4.97946801e-02],\n",
       "        [5.27310881e-03, 4.89336998e-01],\n",
       "        [4.01805718e-02, 3.54647514e-01],\n",
       "        [0.00000000e+00, 0.00000000e+00],\n",
       "        [1.23588997e-02, 2.67065754e-02],\n",
       "        [1.47622682e-01, 1.63560128e-01]],\n",
       "\n",
       "       [[4.81237504e-02, 1.40670891e-01],\n",
       "        [9.24239850e-02, 4.01386582e-01],\n",
       "        [2.11975010e-01, 8.31388532e-01],\n",
       "        [4.26649329e-02, 5.21640800e-01],\n",
       "        [1.81877645e-01, 1.49435346e-01],\n",
       "        [3.37775742e-02, 7.44678789e-01],\n",
       "        [7.97097787e-03, 5.75996537e-01],\n",
       "        [1.23588997e-02, 2.67065754e-02],\n",
       "        [0.00000000e+00, 0.00000000e+00],\n",
       "        [7.45543283e-02, 3.22450378e-01]],\n",
       "\n",
       "       [[2.88101888e-03, 3.71664261e-02],\n",
       "        [9.58939477e-04, 4.31696699e-03],\n",
       "        [5.37954512e-01, 1.18307073e-01],\n",
       "        [4.42111558e-03, 2.38393310e-02],\n",
       "        [4.89324788e-01, 3.28618805e-02],\n",
       "        [2.08696525e-01, 8.70843581e-02],\n",
       "        [3.37699618e-02, 3.65181453e-02],\n",
       "        [1.47622682e-01, 1.63560128e-01],\n",
       "        [7.45543283e-02, 3.22450378e-01],\n",
       "        [0.00000000e+00, 0.00000000e+00]]])"
      ]
     },
     "execution_count": 19,
     "metadata": {},
     "output_type": "execute_result"
    }
   ],
   "source": [
    "# square the coordinate differences\n",
    "sq_differences = differences ** 2 \n",
    "sq_differences.shape \n",
    "sq_differences"
   ]
  },
  {
   "cell_type": "code",
   "execution_count": 18,
   "metadata": {},
   "outputs": [
    {
     "data": {
      "text/plain": [
       "array([[0.        , 0.07398111, 0.75019311, 0.12070228, 0.41724485,\n",
       "        0.40056968, 0.16428994, 0.15404928, 0.18879464, 0.04004745],\n",
       "       [0.07398111, 0.        , 0.66176428, 0.01736513, 0.59460745,\n",
       "        0.2905717 , 0.06183373, 0.39339909, 0.49381057, 0.00527591],\n",
       "       [0.75019311, 0.66176428, 0.        , 0.48077103, 0.27702496,\n",
       "        0.07890604, 0.32552305, 0.68204444, 1.04336354, 0.65626159],\n",
       "       [0.12070228, 0.01736513, 0.48077103, 0.        , 0.51340197,\n",
       "        0.17216331, 0.01510002, 0.41323553, 0.56430573, 0.02826045],\n",
       "       [0.41724485, 0.59460745, 0.27702496, 0.51340197, 0.        ,\n",
       "        0.28583271, 0.40466324, 0.14920913, 0.33131299, 0.52218667],\n",
       "       [0.40056968, 0.2905717 , 0.07890604, 0.17216331, 0.28583271,\n",
       "        0.        , 0.08538234, 0.49461011, 0.77845636, 0.29578088],\n",
       "       [0.16428994, 0.06183373, 0.32552305, 0.01510002, 0.40466324,\n",
       "        0.08538234, 0.        , 0.39482809, 0.58396752, 0.07028811],\n",
       "       [0.15404928, 0.39339909, 0.68204444, 0.41323553, 0.14920913,\n",
       "        0.49461011, 0.39482809, 0.        , 0.03906548, 0.31118281],\n",
       "       [0.18879464, 0.49381057, 1.04336354, 0.56430573, 0.33131299,\n",
       "        0.77845636, 0.58396752, 0.03906548, 0.        , 0.39700471],\n",
       "       [0.04004745, 0.00527591, 0.65626159, 0.02826045, 0.52218667,\n",
       "        0.29578088, 0.07028811, 0.31118281, 0.39700471, 0.        ]])"
      ]
     },
     "execution_count": 18,
     "metadata": {},
     "output_type": "execute_result"
    }
   ],
   "source": [
    "# sum the coordinate differences to get the square distance \n",
    "dist_sq = sq_differences.sum(-1)\n",
    "dist_sq.shape \n",
    "dist_sq "
   ]
  },
  {
   "cell_type": "code",
   "execution_count": 20,
   "metadata": {},
   "outputs": [
    {
     "data": {
      "text/plain": [
       "array([0., 0., 0., 0., 0., 0., 0., 0., 0., 0.])"
      ]
     },
     "execution_count": 20,
     "metadata": {},
     "output_type": "execute_result"
    }
   ],
   "source": [
    "# check the logic (the set of distances between each point and itself must be 0):\n",
    "dist_sq.diagonal()"
   ]
  },
  {
   "cell_type": "code",
   "execution_count": 21,
   "metadata": {},
   "outputs": [
    {
     "data": {
      "text/plain": [
       "array([[0, 9, 1, 3, 7, 6, 8, 5, 4, 2],\n",
       "       [1, 9, 3, 6, 0, 5, 7, 8, 4, 2],\n",
       "       [2, 5, 4, 6, 3, 9, 1, 7, 0, 8],\n",
       "       [3, 6, 1, 9, 0, 5, 7, 2, 4, 8],\n",
       "       [4, 7, 2, 5, 8, 6, 0, 3, 9, 1],\n",
       "       [5, 2, 6, 3, 4, 1, 9, 0, 7, 8],\n",
       "       [6, 3, 1, 9, 5, 0, 2, 7, 4, 8],\n",
       "       [7, 8, 4, 0, 9, 1, 6, 3, 5, 2],\n",
       "       [8, 7, 0, 4, 9, 1, 3, 6, 5, 2],\n",
       "       [9, 1, 3, 0, 6, 5, 7, 8, 4, 2]])"
      ]
     },
     "execution_count": 21,
     "metadata": {},
     "output_type": "execute_result"
    }
   ],
   "source": [
    "# with the pairwise square distances converted, we can now use np.argsort \n",
    "# to sort along each row\n",
    "# the leftmost columns will then give the indices of of the nearest neighbors:\n",
    "nearest = np.argsort(dist_sq, axis=1)\n",
    "nearest \n",
    "\n",
    "# notice first column 0-9 (each point is nearest to itself)"
   ]
  },
  {
   "cell_type": "code",
   "execution_count": 22,
   "metadata": {},
   "outputs": [
    {
     "data": {
      "text/plain": [
       "array([[0, 9, 1, 3, 7, 5, 6, 8, 4, 2],\n",
       "       [1, 9, 3, 6, 0, 5, 2, 7, 8, 4],\n",
       "       [2, 5, 4, 6, 3, 9, 1, 7, 8, 0],\n",
       "       [6, 3, 1, 9, 0, 5, 2, 7, 8, 4],\n",
       "       [7, 2, 4, 5, 8, 6, 0, 1, 3, 9],\n",
       "       [5, 2, 6, 3, 1, 4, 9, 7, 8, 0],\n",
       "       [3, 6, 1, 9, 5, 0, 2, 7, 8, 4],\n",
       "       [7, 4, 8, 0, 1, 5, 6, 3, 2, 9],\n",
       "       [7, 0, 8, 4, 1, 5, 6, 3, 2, 9],\n",
       "       [3, 9, 1, 0, 2, 5, 6, 7, 8, 4]])"
      ]
     },
     "execution_count": 22,
     "metadata": {},
     "output_type": "execute_result"
    }
   ],
   "source": [
    "# we do full sort here, if we interested in just nearest points \n",
    "# we can use partitioning (all columns after second is the next points by the \n",
    "# distance - we don't need them):\n",
    "K = 2 \n",
    "nearest_partition = np.argpartition(dist_sq, K+1, axis=1)\n",
    "nearest_partition\n",
    "\n",
    "# notice that only first two columns can be in use \n"
   ]
  },
  {
   "cell_type": "code",
   "execution_count": 23,
   "metadata": {},
   "outputs": [
    {
     "data": {
      "image/png": "[encoded data removed]",
      "text/plain": [
       "<Figure size 640x480 with 1 Axes>"
      ]
     },
     "metadata": {},
     "output_type": "display_data"
    }
   ],
   "source": [
    "# draw a connection between each neighbors:\n",
    "plt.scatter(X[:,0],X[:,1],s=100)\n",
    "K=2\n",
    "\n",
    "for i in range(X.shape[0]):\n",
    "    for j in nearest_partition[i, :K+1]:\n",
    "        # plot a line from X[i] to X[j]\n",
    "        # use some zip magic to make it happen:\n",
    "        plt.plot(*zip(X[j],X[i]), color='black');"
   ]
  }
 ],
 "metadata": {
  "kernelspec": {
   "display_name": "base",
   "language": "python",
   "name": "python3"
  },
  "language_info": {
   "codemirror_mode": {
    "name": "ipython",
    "version": 3
   },
   "file_extension": ".py",
   "mimetype": "text/x-python",
   "name": "python",
   "nbconvert_exporter": "python",
   "pygments_lexer": "ipython3",
   "version": "3.11.5"
  }
 },
 "nbformat": 4,
 "nbformat_minor": 2
}
